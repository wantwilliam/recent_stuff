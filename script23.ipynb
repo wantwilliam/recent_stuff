{
 "cells": [
  {
   "cell_type": "code",
   "execution_count": 51,
   "id": "e4a55e8f",
   "metadata": {},
   "outputs": [],
   "source": [
    "# INPUTS GO IN THIS CELL\n",
    "\n",
    "# Names and addresses\n",
    "recipient_list = [\n",
    "'want.will@bcg.com', 'Will',\n",
    "'wantwilliam@gmail.com', 'Jill',\n",
    "]\n",
    "\n",
    "# Body of email\n",
    "salutation = 'Hello'\n",
    "include_name = 'no' # set this to yes or no based on whether you want the greeting to include the recipient's name at the end\n",
    "email_body = \"What's up, Doc?\\n\\nSincerely, Nick\" # to make a new line (like pressing Enter), type \"\\n\"\n",
    "\n",
    "# Optional inputs\n",
    "subject_line = 'Howdy Pardner'\n",
    "attachment = '' # To add an attachment, input the file's location on your computer, and change any \"\\\" to \"/\". Example: 'C:/Users/admin/Desktop/Python/Sample.xlsx'\n",
    "\n",
    "# END OF INPUTS SECTION\n",
    "\n",
    "#-------------------------------------------------------------------------------------------------------\n",
    "\n",
    "# Importing the package necessary to connect the script to Outlook\n",
    "import win32com.client\n",
    "\n",
    "# Establishing connection to Outlook\n",
    "ol = win32com.client.Dispatch('Outlook.Application')\n",
    "\n",
    "# Setting up \"while\" loop\n",
    "i = 0\n",
    "while i < len(recipient_list):\n",
    "    \n",
    "    # Instantiating relevant variables\n",
    "    address = recipient_list[i]\n",
    "    name = ' ' + recipient_list[i+1]\n",
    "    \n",
    "    # Setting up the basics of the email\n",
    "    olmailitem = 0x0\n",
    "    newmail = ol.CreateItem(olmailitem)\n",
    "    newmail.Subject = subject_line\n",
    "    newmail.To = address\n",
    "    \n",
    "    # Writing email body\n",
    "    if include_name.lower() == 'no':\n",
    "        name = ''\n",
    "    message = salutation + name + ',\\n\\n' + email_body\n",
    "    newmail.Body = message\n",
    "\n",
    "    # Adding attachments (if inputted)\n",
    "    if len(attachment) > 1:\n",
    "        newmail.Attachments.Add(attachment)\n",
    "    \n",
    "    # Displaying email items\n",
    "    newmail.Display()\n",
    "\n",
    "    # Iterating, but you probably knew that\n",
    "    i = i+2"
   ]
  },
  {
   "cell_type": "code",
   "execution_count": 52,
   "id": "7b17fc3f",
   "metadata": {},
   "outputs": [],
   "source": []
  },
  {
   "cell_type": "code",
   "execution_count": null,
   "id": "901802fb",
   "metadata": {},
   "outputs": [],
   "source": []
  }
 ],
 "metadata": {
  "kernelspec": {
   "display_name": "Python 3 (ipykernel)",
   "language": "python",
   "name": "python3"
  },
  "language_info": {
   "codemirror_mode": {
    "name": "ipython",
    "version": 3
   },
   "file_extension": ".py",
   "mimetype": "text/x-python",
   "name": "python",
   "nbconvert_exporter": "python",
   "pygments_lexer": "ipython3",
   "version": "3.11.5"
  }
 },
 "nbformat": 4,
 "nbformat_minor": 5
}
